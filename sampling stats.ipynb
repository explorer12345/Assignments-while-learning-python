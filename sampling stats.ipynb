{
 "cells": [
  {
   "cell_type": "code",
   "execution_count": 1,
   "metadata": {
    "collapsed": false,
    "deletable": true,
    "editable": true
   },
   "outputs": [
    {
     "data": {
      "application/vnd.jupyter.widget-view+json": {
       "model_id": "679cebc1008f414d85c6e6fab67f8506"
      }
     },
     "metadata": {},
     "output_type": "display_data"
    },
    {
     "data": {
      "text/plain": [
       "<function __main__.plot_bimodal>"
      ]
     },
     "execution_count": 1,
     "metadata": {},
     "output_type": "execute_result"
    }
   ],
   "source": [
    "%matplotlib inline\n",
    "from scipy.stats import norm,binom,t\n",
    "import matplotlib.pyplot as plt\n",
    "import numpy as np\n",
    "import random\n",
    "from ipywidgets import interact,IntSlider, FloatSlider\n",
    "def plot_bimodal(mu2,sigma2,N):\n",
    "    mu1,sigma1=-50,5\n",
    "    X=norm(loc=mu1,scale=sigma1)\n",
    "    Y=norm(loc=mu2,scale=sigma2)\n",
    "    Z=[]\n",
    "    for i in X.rvs(5000):\n",
    "        Z.append(i)\n",
    "    for i in Y.rvs(5000):\n",
    "        Z.append(i)\n",
    "    plt.hist(Z,bins=100,normed=True,label=\"bimodal distribution\")\n",
    "    plt.legend()\n",
    "    plt.show()\n",
    "    print(\" bimodal distribution with two normally distributed random variables X and Y having mean and standard deviation mu1,mu2,sigma1,sigma2 respectively\")\n",
    "    Zbar=[]\n",
    "    S=[]\n",
    "    tdist=[]\n",
    "    for j in range(5000):\n",
    "        d=[]\n",
    "        for i in range(N):\n",
    "            d.append(random.choice(Z))\n",
    "        Zbar.append(sum(d)/N)\n",
    "        S.append(np.std(d))\n",
    "        temp=(N**0.5)*((sum(d)/N)-np.mean(Z))/(np.std(d))\n",
    "        tdist.append(temp)\n",
    "    plt.hist(Zbar,bins=100,normed=True,label=\"histogram of Zbar\")\n",
    "    plt.legend()\n",
    "    plt.show()\n",
    "    print(\"The histogram of means\")\n",
    "    print(\"The behaviour of histogram with increasing sample size(N) can be seen by moving the N slider\")\n",
    "    plt.hist(tdist,bins=100,normed=True,label=\"N^0.5((Zbar-muZ)/S)\")\n",
    "    plt.plot(np.linspace(-5,5,100),t.pdf(np.linspace(-5,5,100),df=N-1,loc=0,scale=1),label=\"T-distribution with N-1 degrees of freedom\")\n",
    "    plt.legend()\n",
    "    plt.show()\n",
    "    print(\"The just above histogram looks like T-distribution with N-1 degrees of freedom \")\n",
    "        \n",
    "    sd=[]\n",
    "    n=range(1,100)\n",
    "    for i in n:\n",
    "        for j in range(5000):\n",
    "            for k in range(i):\n",
    "                d=[]\n",
    "                d.append(random.choice(Z))\n",
    "            Zbar.append(sum(d)/i)\n",
    "        sd.append(np.std(Zbar))\n",
    "    plt.plot(n,sd)\n",
    "    plt.xlabel('N (Sample size)')\n",
    "    plt.ylabel('Standard deviation of means')\n",
    "    plt.show()\n",
    "   \n",
    "    \n",
    "    \n",
    "\n",
    "interact(plot_bimodal,mu2=FloatSlider(min=-100,max=100,value=50) ,sigma2=FloatSlider(min=0,max=100,value=5),N=IntSlider(min=1,max=100,value=50))\n",
    "#plt.hist?\n",
    "\n",
    "\n"
   ]
  },
  {
   "cell_type": "code",
   "execution_count": null,
   "metadata": {
    "collapsed": true,
    "deletable": true,
    "editable": true
   },
   "outputs": [],
   "source": []
  },
  {
   "cell_type": "code",
   "execution_count": null,
   "metadata": {
    "collapsed": true,
    "deletable": true,
    "editable": true
   },
   "outputs": [],
   "source": []
  },
  {
   "cell_type": "code",
   "execution_count": null,
   "metadata": {
    "collapsed": true,
    "deletable": true,
    "editable": true
   },
   "outputs": [],
   "source": []
  }
 ],
 "metadata": {
  "kernelspec": {
   "display_name": "Python 3",
   "language": "python",
   "name": "python3"
  },
  "language_info": {
   "codemirror_mode": {
    "name": "ipython",
    "version": 3
   },
   "file_extension": ".py",
   "mimetype": "text/x-python",
   "name": "python",
   "nbconvert_exporter": "python",
   "pygments_lexer": "ipython3",
   "version": "3.5.2"
  }
 },
 "nbformat": 4,
 "nbformat_minor": 2
}
