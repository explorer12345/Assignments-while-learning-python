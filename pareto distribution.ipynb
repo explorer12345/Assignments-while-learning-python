{
 "cells": [
  {
   "cell_type": "code",
   "execution_count": 87,
   "metadata": {
    "collapsed": false
   },
   "outputs": [
    {
     "data": {
      "application/vnd.jupyter.widget-view+json": {
       "model_id": "19cc907e2b58408fb1f9750ca049f740"
      }
     },
     "metadata": {},
     "output_type": "display_data"
    },
    {
     "data": {
      "text/plain": [
       "<function __main__.plot_pareto>"
      ]
     },
     "execution_count": 87,
     "metadata": {},
     "output_type": "execute_result"
    }
   ],
   "source": [
    "%matplotlib inline\n",
    "from scipy.stats import pareto\n",
    "import matplotlib.pyplot as plt\n",
    "import numpy as np\n",
    "from ipywidgets import interact,IntSlider, FloatSlider \n",
    "x=np.linspace(0,10,1000)\n",
    "def plot_pareto(x_m,alpha):\n",
    "    y=pareto.pdf(x,alpha,x_m)\n",
    "#alpha=tailindex\n",
    "#x_m=scale parameter\n",
    "    if alpha<=1: mean=float('inf')\n",
    "    else: mean=alpha*x_m/(alpha-1)\n",
    "    y_mean=[mean]*1000\n",
    "    if alpha<=2: var=float('inf')\n",
    "    else: var=x_m**2*alpha/((alpha-1)**2*(alpha-2))\n",
    "    y_var=[var]*1000\n",
    "    plt.plot(x,y_var,label='variance')\n",
    "    plt.plot(x,y_mean,label='mean')\n",
    "    plt.plot(x,y,label='pdf')\n",
    "    plt.plot(x,pareto.cdf(x,alpha,x_m),label='cdf')\n",
    "    plt.legend()\n",
    "    plt.show()\n",
    "interact(plot_pareto,x_m=FloatSlider(min=0,max=10,value=1) ,alpha=FloatSlider(min=0.01,max=10,value=1))"
   ]
  },
  {
   "cell_type": "markdown",
   "metadata": {},
   "source": [
    "## Pareto Distribution\n",
    "* #### Probability density function: \n",
    "the probability density function is\n",
    "f( x ) =\\begin{cases}{\\frac {\\alpha x_{\\mathrm {m} }^{\\alpha }}{x^{\\alpha +1}}}&x\\geq x_{\\mathrm {m} },\\\\0&x<x_{\\mathrm {m} }.\\end{cases}\n",
    "where xm is the (necessarily positive) minimum possible value of X called scale parameter, and α is a positive parameter called the tail index\n",
    "* #### Cumulative distribution function:\n",
    "F( x ) =\\begin{cases}1-\\left({\\frac {x_{\\mathrm {m} }}{x}}\\right)^{\\alpha }&x\\geq x_{\\mathrm {m} },\\\\0&x<x_{\\mathrm {m} }.\\end{cases} \n",
    "* #### Mean:\n",
    "Mean = \\begin{cases}\\infty &\\alpha \\leq 1,\\\\{\\frac {\\alpha x_{\\mathrm {m} }}{\\alpha -1}}&\\alpha >1.\\end{cases}\n",
    "\n",
    "* #### Variance:\n",
    "Var( X ) =\\begin{cases}\\infty &\\alpha \\in (1,2],\\\\\\left({\\frac {x_{\\mathrm {m} }}{\\alpha -1}}\\right)^{2}{\\frac {\\alpha }{\\alpha -2}}&\\alpha >2.\\end{cases}\n",
    "\n",
    "                   (If α ≤ 2, the variance does not exist.)\n",
    "\n",
    "\n"
   ]
  },
  {
   "cell_type": "markdown",
   "metadata": {},
   "source": [
    "* As the value of the tail index(alpha) approaches infinity, mean approaches x_m, variance approaches 0 and the pareto distribution resembles the Dirac Delta Function\n",
    "* #### Examples where Pareto Distribution is found:\n",
    "* The sizes of human settlements (since few cities and large number of villages/hamlets)\n",
    "* Sizes of sand particles (since the number of sand particles increases as their size decreases)\n",
    "* #### Application:\n",
    "* In practice Pareto Distribution can be used to model the allocation of wealth among individuals(especially for a country like   ours) since a large proportion of wealth is acquired by a few super rich individuals while a small proportion of wealth is     owned by a large number of people"
   ]
  },
  {
   "cell_type": "code",
   "execution_count": null,
   "metadata": {
    "collapsed": true
   },
   "outputs": [],
   "source": []
  }
 ],
 "metadata": {
  "kernelspec": {
   "display_name": "Python 3",
   "language": "python",
   "name": "python3"
  },
  "language_info": {
   "codemirror_mode": {
    "name": "ipython",
    "version": 3
   },
   "file_extension": ".py",
   "mimetype": "text/x-python",
   "name": "python",
   "nbconvert_exporter": "python",
   "pygments_lexer": "ipython3",
   "version": "3.5.2"
  }
 },
 "nbformat": 4,
 "nbformat_minor": 2
}
